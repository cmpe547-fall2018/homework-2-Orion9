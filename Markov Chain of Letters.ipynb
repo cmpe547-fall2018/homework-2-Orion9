{
 "cells": [
  {
   "cell_type": "markdown",
   "metadata": {},
   "source": [
    "Name: Oğuz Kerem Tural\n",
    "\n",
    "I hereby declare that I observed the honour code of the university when preparing the homework."
   ]
  },
  {
   "cell_type": "markdown",
   "metadata": {},
   "source": [
    "## Pr?gr?mm?ng?H?m?w?rk\n",
    "\n",
    "In this exercise we model a string of text using a Markov(1) model. For simplicity we only consider letters 'a-z'. Capital letters 'A-Z' are mapped to the corresponding ones. All remaining letters, symbols, numbers, including spaces, are denoted by '.'.\n",
    "\n",
    "\n",
    "We have a probability table $T$ where $T_{i,j} = p(x_t = j | x_{t-1} = i)$  transition model of letters in English text for $t=1,2 \\dots N$. Assume that the initial letter in a string is always a space denoted as $x_0 = \\text{'.'}$. Such a model where the probability table is always the same is sometimes called a stationary model.\n",
    "\n",
    "1. For a given $N$, write a program to sample random strings with letters $x_1, x_2, \\dots, x_N$ from $p(x_{1:N}|x_0)$\n",
    "1. Now suppose you are given strings with missing letters, where each missing letter is denoted by a question mark (or underscore, as below). Implement a method, that samples missing letters conditioned on observed ones, i.e., samples from $p(x_{-\\alpha}|x_{\\alpha})$ where $\\alpha$ denotes indices of observed letters. For example, if the input is 't??.', we have $N=4$ and\n",
    "$x_1 = \\text{'t'}$ and $x_4 = \\text{'.'}$, $\\alpha=\\{1,4\\}$ and $-\\alpha=\\{2,3\\}$. Your program may possibly generate the strings 'the.', 'twi.', 'tee.', etc. Hint: make sure to make use all data given and sample from the correct distribution. Implement the method and print the results for the test strings below. \n",
    "1. Describe a method for filling in the gaps by estimating the most likely letter for each position. Hint: you need to compute\n",
    "$$\n",
    "x_{-\\alpha}^* = \\arg\\max_{x_{-\\alpha}} p(x_{-\\alpha}|x_{\\alpha})\n",
    "$$\n",
    "Implement the method and print the results for the following test strings along with the log-probability  $\\log p(x_{-\\alpha}^*,x_{\\alpha})$.\n",
    "1. Discuss how you can improve the model to get better estimations."
   ]
  },
  {
   "cell_type": "code",
   "execution_count": 1,
   "metadata": {},
   "outputs": [],
   "source": [
    "test_strings = ['th__br__n.f_x.', '_u_st__n_.to_be._nsw_r__','i__at_._a_h_n_._e_r_i_g','q___t.___z._____t.__.___.__.']"
   ]
  },
  {
   "cell_type": "markdown",
   "metadata": {},
   "source": [
    "Hint: The code below loads a table of transition probabilities for English text."
   ]
  },
  {
   "cell_type": "code",
   "execution_count": 2,
   "metadata": {},
   "outputs": [],
   "source": [
    "import csv\n",
    "import numpy as np\n",
    "from IPython.display import display, Latex\n",
    "\n",
    "alphabet = [chr(i+ord('a')) for i in range(26)]\n",
    "alphabet.append('.')\n",
    "letter2idx = {c:i for i,c in enumerate(alphabet)}\n",
    "\n",
    "T = []\n",
    "with open('transitions.csv') as csvfile:\n",
    "    reader = csv.reader(csvfile, delimiter=',')\n",
    "    for row in reader:\n",
    "        T.append(row)"
   ]
  },
  {
   "cell_type": "markdown",
   "metadata": {},
   "source": [
    "## Question 1"
   ]
  },
  {
   "cell_type": "markdown",
   "metadata": {},
   "source": [
    "For given a string size N, sample a random string."
   ]
  },
  {
   "cell_type": "code",
   "execution_count": 3,
   "metadata": {},
   "outputs": [],
   "source": [
    "def sample_string(string_size):\n",
    "    initial_char = '.'\n",
    "    # Probability table for p(x(n)|x0='.')\n",
    "    probability_table = T[letter2idx[initial_char]]\n",
    "    result_string = ''\n",
    "    for i in range(string_size):\n",
    "        chosen_char = np.random.choice(alphabet, p=probability_table)\n",
    "        result_string = result_string + chosen_char\n",
    "    return result_string\n"
   ]
  },
  {
   "cell_type": "markdown",
   "metadata": {},
   "source": [
    "Test with $N = 10$."
   ]
  },
  {
   "cell_type": "code",
   "execution_count": 4,
   "metadata": {},
   "outputs": [
    {
     "name": "stdout",
     "output_type": "stream",
     "text": [
      "tostwt.tbl\n",
      "tafgtbedmc\n",
      "ipmmhfiv.f\n"
     ]
    }
   ],
   "source": [
    "for i in range(3):\n",
    "    print(sample_string(10))"
   ]
  },
  {
   "cell_type": "markdown",
   "metadata": {},
   "source": [
    "## Question 2"
   ]
  },
  {
   "cell_type": "markdown",
   "metadata": {},
   "source": [
    "For given imparial string, sample new strings using observed letters."
   ]
  },
  {
   "cell_type": "code",
   "execution_count": 5,
   "metadata": {},
   "outputs": [],
   "source": [
    "def fill_in_the_blanks(partial_string):\n",
    "    result_string = list(partial_string)\n",
    "    for i in range(len(result_string)):\n",
    "        previous_char = '.'\n",
    "        if result_string[i] == '_':\n",
    "            if i != 0:\n",
    "                previous_char = result_string[i - 1]\n",
    "            probability_table = T[letter2idx[previous_char]]\n",
    "            # Without normalization gives 'ValueError: probabilities do not sum to 1' error.\n",
    "            probability_table = np.array(probability_table).astype(np.float)\n",
    "            probability_table = probability_table / np.sum(probability_table)\n",
    "            chosen_char = np.random.choice(alphabet, p=probability_table)\n",
    "            result_string[i] = chosen_char\n",
    "    return ''.join(result_string)"
   ]
  },
  {
   "cell_type": "markdown",
   "metadata": {},
   "source": [
    "Test with given test strings:"
   ]
  },
  {
   "cell_type": "code",
   "execution_count": 6,
   "metadata": {},
   "outputs": [
    {
     "name": "stdout",
     "output_type": "stream",
     "text": [
      "th.tbr.hn.f.x.\n",
      "thisbr.nn.fox.\n",
      "thacbrman.f.x.\n",
      "thatbrgrn.fox.\n",
      "the.brn.n.fix.\n",
      "iumste.n..totbe.wnswhrd.\n",
      "ausstopno.toube.ynsware.\n",
      "ruestovn..tonbe.wnswerno\n",
      "cubstyend.tombe.wnswirth\n",
      "ounstatne.toube.tnswerve\n",
      "iluats.uanhenk.yeer.itg\n",
      "iteat..ialheng.teirting\n",
      "iraate.tanheng.benraing\n",
      "indath.aarhent.we.reisg\n",
      "itiati.aamhing.derraitg\n",
      "qupst.e.sz.ts.ent.ar.isc.te.\n",
      "qug.t.insz.wanott.fs.of..ai.\n",
      "qud.t.antz.ththit.st.pto.ha.\n",
      "qumot..thz..air.t.t..int.be.\n",
      "quntt.ly.z.s.hest.g..ne..s..\n"
     ]
    }
   ],
   "source": [
    "for test_string in test_strings:\n",
    "    for sample in range(5):\n",
    "        print(fill_in_the_blanks(test_string))"
   ]
  },
  {
   "cell_type": "markdown",
   "metadata": {},
   "source": [
    "## Question 3"
   ]
  },
  {
   "cell_type": "markdown",
   "metadata": {},
   "source": [
    "We can use maximum likelihood estimation to find the most likely letters."
   ]
  },
  {
   "cell_type": "code",
   "execution_count": 7,
   "metadata": {},
   "outputs": [],
   "source": [
    "def estimate_the_best(partial_string):\n",
    "    result_string = list(partial_string)\n",
    "    probability = 0\n",
    "    for i in range(len(result_string)):\n",
    "        previous_char = '.'\n",
    "        if result_string[i] == '_':\n",
    "            if i != 0:\n",
    "                previous_char = result_string[i - 1]\n",
    "            probability_table = T[letter2idx[previous_char]]\n",
    "\n",
    "            chosen_char = alphabet[np.argmax(probability_table)]\n",
    "            result_string[i] = chosen_char\n",
    "    return ''.join(result_string)"
   ]
  },
  {
   "cell_type": "code",
   "execution_count": 8,
   "metadata": {},
   "outputs": [
    {
     "name": "stdout",
     "output_type": "stream",
     "text": [
      "Best possible string:  the.bre.n.f.x.\n",
      "Best possible string:  tursthen..tonbe.tnswhre.\n",
      "Best possible string:  in.ath.tanhen..te.reing\n",
      "Best possible string:  quret.thez.the.tt.th.the.th.\n"
     ]
    }
   ],
   "source": [
    "for test in test_strings:\n",
    "    print(\"Best possible string: \", estimate_the_best(test))"
   ]
  },
  {
   "cell_type": "code",
   "execution_count": null,
   "metadata": {},
   "outputs": [],
   "source": []
  }
 ],
 "metadata": {
  "kernelspec": {
   "display_name": "Python 3",
   "language": "python",
   "name": "python3"
  },
  "language_info": {
   "codemirror_mode": {
    "name": "ipython",
    "version": 3
   },
   "file_extension": ".py",
   "mimetype": "text/x-python",
   "name": "python",
   "nbconvert_exporter": "python",
   "pygments_lexer": "ipython3",
   "version": "3.7.0"
  }
 },
 "nbformat": 4,
 "nbformat_minor": 1
}
